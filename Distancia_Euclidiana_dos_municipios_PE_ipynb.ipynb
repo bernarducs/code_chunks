{
  "nbformat": 4,
  "nbformat_minor": 0,
  "metadata": {
    "colab": {
      "name": "Distancia Euclidiana dos municipios PE ipynb",
      "provenance": [],
      "collapsed_sections": [],
      "authorship_tag": "ABX9TyO4g6ZKyLvYjy89/w6FN/kj",
      "include_colab_link": true
    },
    "kernelspec": {
      "name": "python3",
      "display_name": "Python 3"
    }
  },
  "cells": [
    {
      "cell_type": "markdown",
      "metadata": {
        "id": "view-in-github",
        "colab_type": "text"
      },
      "source": [
        "<a href=\"https://colab.research.google.com/github/bernarducs/code_chunks/blob/master/Distancia_Euclidiana_dos_municipios_PE_ipynb.ipynb\" target=\"_parent\"><img src=\"https://colab.research.google.com/assets/colab-badge.svg\" alt=\"Open In Colab\"/></a>"
      ]
    },
    {
      "cell_type": "markdown",
      "metadata": {
        "id": "PKl-5lc8tjai",
        "colab_type": "text"
      },
      "source": [
        "Importando pacotes"
      ]
    },
    {
      "cell_type": "code",
      "metadata": {
        "id": "DqySEYkAd143",
        "colab_type": "code",
        "colab": {}
      },
      "source": [
        "import numpy as np # lida com algebra, matrizes\n",
        "import pandas as pd # lida com tabelas"
      ],
      "execution_count": 44,
      "outputs": []
    },
    {
      "cell_type": "code",
      "metadata": {
        "id": "SMUbp2Uplhgk",
        "colab_type": "code",
        "colab": {}
      },
      "source": [
        "from numpy import linalg as LA # distancia euclidiana entre dois pontos"
      ],
      "execution_count": 45,
      "outputs": []
    },
    {
      "cell_type": "code",
      "metadata": {
        "id": "J5riELdHe81-",
        "colab_type": "code",
        "colab": {}
      },
      "source": [
        "# graficos\n",
        "import seaborn as sns\n",
        "import matplotlib.pyplot as plt"
      ],
      "execution_count": 46,
      "outputs": []
    },
    {
      "cell_type": "markdown",
      "metadata": {
        "id": "eOQmvCQ8QTFP",
        "colab_type": "text"
      },
      "source": [
        "### municipios sem agências CEF - qual o município mais próximo de cada um desses 20 municipios (em código IBGE)"
      ]
    },
    {
      "cell_type": "code",
      "metadata": {
        "id": "Z4oLJI7_0yRK",
        "colab_type": "code",
        "colab": {}
      },
      "source": [
        "cd_munic_sem_agencias = [260150, 260240, 260250, 260340, 260370, 260392, 260515, \n",
        "                         260545, 260630, 260670, 260700, 260730, 260740, 261030, \n",
        "                         261210, 261290, 261400, 261480, 261510, 261618]"
      ],
      "execution_count": 52,
      "outputs": []
    },
    {
      "cell_type": "markdown",
      "metadata": {
        "id": "vk087uUut17S",
        "colab_type": "text"
      },
      "source": [
        "Importando arquivo de lat e lng de cada cidade"
      ]
    },
    {
      "cell_type": "code",
      "metadata": {
        "id": "ES02Fb-zeVGL",
        "colab_type": "code",
        "colab": {
          "base_uri": "https://localhost:8080/",
          "height": 35
        },
        "outputId": "e34ff669-d205-4801-8cd2-230cc97f7645"
      },
      "source": [
        "# arquivo com os pontos de cada municipio de PE\n",
        "from google.colab import drive\n",
        "drive.mount('/content/drive/', force_remount=True)"
      ],
      "execution_count": 47,
      "outputs": [
        {
          "output_type": "stream",
          "text": [
            "Mounted at /content/drive/\n"
          ],
          "name": "stdout"
        }
      ]
    },
    {
      "cell_type": "code",
      "metadata": {
        "id": "TiXVfh9SeUPt",
        "colab_type": "code",
        "colab": {
          "base_uri": "https://localhost:8080/",
          "height": 175
        },
        "outputId": "e1bd57e8-e475-49ea-fcb4-98203e0971f7"
      },
      "source": [
        "path_data_set = '/content/drive/My Drive/pontos_municipios_bing.csv'\n",
        "df = pd.read_csv(path_data_set, sep=';', \n",
        "                 usecols=['cd_municipio', 'lat_municipio', 'lng_municipio'],\n",
        "                 index_col='cd_municipio')\n",
        "\n",
        "df.columns=['lat', 'lng']\n",
        "df.head(3)"
      ],
      "execution_count": 48,
      "outputs": [
        {
          "output_type": "execute_result",
          "data": {
            "text/html": [
              "<div>\n",
              "<style scoped>\n",
              "    .dataframe tbody tr th:only-of-type {\n",
              "        vertical-align: middle;\n",
              "    }\n",
              "\n",
              "    .dataframe tbody tr th {\n",
              "        vertical-align: top;\n",
              "    }\n",
              "\n",
              "    .dataframe thead th {\n",
              "        text-align: right;\n",
              "    }\n",
              "</style>\n",
              "<table border=\"1\" class=\"dataframe\">\n",
              "  <thead>\n",
              "    <tr style=\"text-align: right;\">\n",
              "      <th></th>\n",
              "      <th>lat</th>\n",
              "      <th>lng</th>\n",
              "    </tr>\n",
              "    <tr>\n",
              "      <th>cd_municipio</th>\n",
              "      <th></th>\n",
              "      <th></th>\n",
              "    </tr>\n",
              "  </thead>\n",
              "  <tbody>\n",
              "    <tr>\n",
              "      <th>260005</th>\n",
              "      <td>-7.90525</td>\n",
              "      <td>-34.904499</td>\n",
              "    </tr>\n",
              "    <tr>\n",
              "      <th>260010</th>\n",
              "      <td>-7.74939</td>\n",
              "      <td>-37.633610</td>\n",
              "    </tr>\n",
              "    <tr>\n",
              "      <th>260020</th>\n",
              "      <td>-8.51642</td>\n",
              "      <td>-41.007938</td>\n",
              "    </tr>\n",
              "  </tbody>\n",
              "</table>\n",
              "</div>"
            ],
            "text/plain": [
              "                  lat        lng\n",
              "cd_municipio                    \n",
              "260005       -7.90525 -34.904499\n",
              "260010       -7.74939 -37.633610\n",
              "260020       -8.51642 -41.007938"
            ]
          },
          "metadata": {
            "tags": []
          },
          "execution_count": 48
        }
      ]
    },
    {
      "cell_type": "markdown",
      "metadata": {
        "id": "sI_itIS4t63F",
        "colab_type": "text"
      },
      "source": [
        "tipo do dados (se é texto, numero, etc)\n",
        "aqui latitude e longitude são pontos flutuantes (número com casas decimais == OK, podemos trabalhar.)"
      ]
    },
    {
      "cell_type": "code",
      "metadata": {
        "id": "6RPk3sqQjvkI",
        "colab_type": "code",
        "colab": {
          "base_uri": "https://localhost:8080/",
          "height": 72
        },
        "outputId": "5fe705aa-4db3-42e7-c5e6-c96b857ac4e8"
      },
      "source": [
        "df.dtypes"
      ],
      "execution_count": 49,
      "outputs": [
        {
          "output_type": "execute_result",
          "data": {
            "text/plain": [
              "lat    float64\n",
              "lng    float64\n",
              "dtype: object"
            ]
          },
          "metadata": {
            "tags": []
          },
          "execution_count": 49
        }
      ]
    },
    {
      "cell_type": "markdown",
      "metadata": {
        "id": "vaQ5QpRqx-8i",
        "colab_type": "text"
      },
      "source": [
        "tabela com os nomes dos municipios (iremos usar no final)"
      ]
    },
    {
      "cell_type": "code",
      "metadata": {
        "id": "6Wp-NhjtxUvl",
        "colab_type": "code",
        "colab": {
          "base_uri": "https://localhost:8080/",
          "height": 175
        },
        "outputId": "0ad792c7-71b7-4fb4-8fa5-02f136e55f72"
      },
      "source": [
        "path_data_set = '/content/drive/My Drive/municipios_pe.xlsx'\n",
        "nome_munic = pd.read_excel(path_data_set, index_col='cd_municipio')\n",
        "nome_munic.head(3)"
      ],
      "execution_count": 50,
      "outputs": [
        {
          "output_type": "execute_result",
          "data": {
            "text/html": [
              "<div>\n",
              "<style scoped>\n",
              "    .dataframe tbody tr th:only-of-type {\n",
              "        vertical-align: middle;\n",
              "    }\n",
              "\n",
              "    .dataframe tbody tr th {\n",
              "        vertical-align: top;\n",
              "    }\n",
              "\n",
              "    .dataframe thead th {\n",
              "        text-align: right;\n",
              "    }\n",
              "</style>\n",
              "<table border=\"1\" class=\"dataframe\">\n",
              "  <thead>\n",
              "    <tr style=\"text-align: right;\">\n",
              "      <th></th>\n",
              "      <th>NOME_MUNICIPIO</th>\n",
              "    </tr>\n",
              "    <tr>\n",
              "      <th>cd_municipio</th>\n",
              "      <th></th>\n",
              "    </tr>\n",
              "  </thead>\n",
              "  <tbody>\n",
              "    <tr>\n",
              "      <th>260005</th>\n",
              "      <td>ABREU E LIMA</td>\n",
              "    </tr>\n",
              "    <tr>\n",
              "      <th>260010</th>\n",
              "      <td>AFOGADOS DA INGAZEIRA</td>\n",
              "    </tr>\n",
              "    <tr>\n",
              "      <th>260020</th>\n",
              "      <td>AFRÂNIO</td>\n",
              "    </tr>\n",
              "  </tbody>\n",
              "</table>\n",
              "</div>"
            ],
            "text/plain": [
              "                     NOME_MUNICIPIO\n",
              "cd_municipio                       \n",
              "260005                 ABREU E LIMA\n",
              "260010        AFOGADOS DA INGAZEIRA\n",
              "260020                      AFRÂNIO"
            ]
          },
          "metadata": {
            "tags": []
          },
          "execution_count": 50
        }
      ]
    },
    {
      "cell_type": "markdown",
      "metadata": {
        "id": "HavfsImGuMT9",
        "colab_type": "text"
      },
      "source": [
        "Se plotarmos cada ponto num plano cartesiano, teriamos um mapa de PE!"
      ]
    },
    {
      "cell_type": "code",
      "metadata": {
        "id": "5blVjC-2eTtQ",
        "colab_type": "code",
        "colab": {
          "base_uri": "https://localhost:8080/",
          "height": 369
        },
        "outputId": "508d7d55-45f9-432f-9ba5-358a36f0121c"
      },
      "source": [
        "sns.relplot(x=\"lng\", y=\"lat\", data=df, aspect=1.5);"
      ],
      "execution_count": 51,
      "outputs": [
        {
          "output_type": "display_data",
          "data": {
            "image/png": "[encoded data removed]",
            "text/plain": [
              "<Figure size 540x360 with 1 Axes>"
            ]
          },
          "metadata": {
            "tags": [],
            "needs_background": "light"
          }
        }
      ]
    },
    {
      "cell_type": "markdown",
      "metadata": {
        "id": "zi78Ee_kuiRt",
        "colab_type": "text"
      },
      "source": [
        "Método: ter uma lista de municípios e seus pontos. Iremos iterar cada municipio (municipio 'a') contra os demais (mun 'v') e extrair suas distâncias euclidianas. Daí checamos qual o município 'v' possui o valor mínimo com o municipio 'a'.\n",
        "\n",
        "Por fim teremos um dicionario final com o municipio 'a' e seu vizinho 'v' mais próximo."
      ]
    },
    {
      "cell_type": "markdown",
      "metadata": {
        "id": "Id2dOc5WuXsO",
        "colab_type": "text"
      },
      "source": [
        "unindo lat e lng em coordenadas algebricas"
      ]
    },
    {
      "cell_type": "code",
      "metadata": {
        "id": "qRnYDVd9ll9U",
        "colab_type": "code",
        "colab": {}
      },
      "source": [
        "coordenadas = {idx: np.array([row.lng, row.lat]) for idx, row in df.iterrows()}"
      ],
      "execution_count": 53,
      "outputs": []
    },
    {
      "cell_type": "markdown",
      "metadata": {
        "id": "IEwXbXEJudmD",
        "colab_type": "text"
      },
      "source": [
        "criando lista de municipios para iteração"
      ]
    },
    {
      "cell_type": "code",
      "metadata": {
        "id": "XJeIDSxXnoXf",
        "colab_type": "code",
        "colab": {}
      },
      "source": [
        "lista_munic = list(coordenadas.keys())"
      ],
      "execution_count": 54,
      "outputs": []
    },
    {
      "cell_type": "markdown",
      "metadata": {
        "id": "fcII_EvEvkpf",
        "colab_type": "text"
      },
      "source": [
        ""
      ]
    },
    {
      "cell_type": "code",
      "metadata": {
        "id": "xFUbThTLqDr6",
        "colab_type": "code",
        "colab": {}
      },
      "source": [
        "munic_prox = dict() # dicionario final\n",
        "\n",
        "for munic in lista_munic:\n",
        "  a = coordenadas[munic]\n",
        "  dict_distancias = dict() # dict com todas as distancias\n",
        "\n",
        "  for k, v in coordenadas.items():\n",
        "    # excluindo da comparacao se for ele mesmo \n",
        "    # e se o outro municipio tambem nao tiver agencia\n",
        "    if not np.array_equal(a, v) and k not in cd_munic_sem_agencias: \n",
        "      # add todas as distancias para um munic 'a'\n",
        "      dict_distancias[k] = LA.norm(a - v) \n",
        "\n",
        "  # add o municipio de distancia minima no dict final\n",
        "  munic_prox[munic] = min(dict_distancias, key=dict_distancias.get)"
      ],
      "execution_count": 55,
      "outputs": []
    },
    {
      "cell_type": "markdown",
      "metadata": {
        "id": "9yQOxLGkzTS5",
        "colab_type": "text"
      },
      "source": [
        "jogando o dicionario de vizinhos num dataframe (tabela) e trazendo os nomes dos municipios"
      ]
    },
    {
      "cell_type": "code",
      "metadata": {
        "id": "FH2RSdDwtCok",
        "colab_type": "code",
        "colab": {}
      },
      "source": [
        "vizinhos_cod = pd.DataFrame.from_dict(munic_prox, columns=['munic. próx'], orient='index')"
      ],
      "execution_count": 56,
      "outputs": []
    },
    {
      "cell_type": "code",
      "metadata": {
        "id": "VMsMxezlyJ3I",
        "colab_type": "code",
        "colab": {}
      },
      "source": [
        "viz = vizinhos_cod.join(nome_munic)"
      ],
      "execution_count": 57,
      "outputs": []
    },
    {
      "cell_type": "code",
      "metadata": {
        "id": "w-hjdw0ryl9R",
        "colab_type": "code",
        "colab": {
          "base_uri": "https://localhost:8080/",
          "height": 237
        },
        "outputId": "518a2b2f-b9c7-4ae7-fa2a-1f4140e92dd2"
      },
      "source": [
        "tab_vizinhos = viz.join(nome_munic, on='munic. próx', rsuffix='_PRÓX')\n",
        "tab_vizinhos.index.name = 'cd_municipio'\n",
        "tab_vizinhos.head()"
      ],
      "execution_count": 58,
      "outputs": [
        {
          "output_type": "execute_result",
          "data": {
            "text/html": [
              "<div>\n",
              "<style scoped>\n",
              "    .dataframe tbody tr th:only-of-type {\n",
              "        vertical-align: middle;\n",
              "    }\n",
              "\n",
              "    .dataframe tbody tr th {\n",
              "        vertical-align: top;\n",
              "    }\n",
              "\n",
              "    .dataframe thead th {\n",
              "        text-align: right;\n",
              "    }\n",
              "</style>\n",
              "<table border=\"1\" class=\"dataframe\">\n",
              "  <thead>\n",
              "    <tr style=\"text-align: right;\">\n",
              "      <th></th>\n",
              "      <th>munic. próx</th>\n",
              "      <th>NOME_MUNICIPIO</th>\n",
              "      <th>NOME_MUNICIPIO_PRÓX</th>\n",
              "    </tr>\n",
              "    <tr>\n",
              "      <th>cd_municipio</th>\n",
              "      <th></th>\n",
              "      <th></th>\n",
              "      <th></th>\n",
              "    </tr>\n",
              "  </thead>\n",
              "  <tbody>\n",
              "    <tr>\n",
              "      <th>260005</th>\n",
              "      <td>261070</td>\n",
              "      <td>ABREU E LIMA</td>\n",
              "      <td>PAULISTA</td>\n",
              "    </tr>\n",
              "    <tr>\n",
              "      <th>260010</th>\n",
              "      <td>261440</td>\n",
              "      <td>AFOGADOS DA INGAZEIRA</td>\n",
              "      <td>SOLIDÃO</td>\n",
              "    </tr>\n",
              "    <tr>\n",
              "      <th>260020</th>\n",
              "      <td>261255</td>\n",
              "      <td>AFRÂNIO</td>\n",
              "      <td>SANTA FILOMENA</td>\n",
              "    </tr>\n",
              "    <tr>\n",
              "      <th>260030</th>\n",
              "      <td>260080</td>\n",
              "      <td>AGRESTINA</td>\n",
              "      <td>ALTINHO</td>\n",
              "    </tr>\n",
              "    <tr>\n",
              "      <th>260040</th>\n",
              "      <td>261000</td>\n",
              "      <td>ÁGUA PRETA</td>\n",
              "      <td>PALMARES</td>\n",
              "    </tr>\n",
              "  </tbody>\n",
              "</table>\n",
              "</div>"
            ],
            "text/plain": [
              "              munic. próx         NOME_MUNICIPIO NOME_MUNICIPIO_PRÓX\n",
              "cd_municipio                                                        \n",
              "260005             261070           ABREU E LIMA            PAULISTA\n",
              "260010             261440  AFOGADOS DA INGAZEIRA             SOLIDÃO\n",
              "260020             261255                AFRÂNIO      SANTA FILOMENA\n",
              "260030             260080              AGRESTINA             ALTINHO\n",
              "260040             261000             ÁGUA PRETA            PALMARES"
            ]
          },
          "metadata": {
            "tags": []
          },
          "execution_count": 58
        }
      ]
    },
    {
      "cell_type": "markdown",
      "metadata": {
        "id": "d5UG-UBg2bzo",
        "colab_type": "text"
      },
      "source": [
        "filtrando municipios sem agências da CEF"
      ]
    },
    {
      "cell_type": "code",
      "metadata": {
        "id": "FZVbEm3d010t",
        "colab_type": "code",
        "colab": {
          "base_uri": "https://localhost:8080/",
          "height": 708
        },
        "outputId": "0f730933-69a1-45f7-fe45-fc130b7664bb"
      },
      "source": [
        "tab_vizinhos.loc[cd_munic_sem_agencias]"
      ],
      "execution_count": 59,
      "outputs": [
        {
          "output_type": "execute_result",
          "data": {
            "text/html": [
              "<div>\n",
              "<style scoped>\n",
              "    .dataframe tbody tr th:only-of-type {\n",
              "        vertical-align: middle;\n",
              "    }\n",
              "\n",
              "    .dataframe tbody tr th {\n",
              "        vertical-align: top;\n",
              "    }\n",
              "\n",
              "    .dataframe thead th {\n",
              "        text-align: right;\n",
              "    }\n",
              "</style>\n",
              "<table border=\"1\" class=\"dataframe\">\n",
              "  <thead>\n",
              "    <tr style=\"text-align: right;\">\n",
              "      <th></th>\n",
              "      <th>munic. próx</th>\n",
              "      <th>NOME_MUNICIPIO</th>\n",
              "      <th>NOME_MUNICIPIO_PRÓX</th>\n",
              "    </tr>\n",
              "    <tr>\n",
              "      <th>cd_municipio</th>\n",
              "      <th></th>\n",
              "      <th></th>\n",
              "      <th></th>\n",
              "    </tr>\n",
              "  </thead>\n",
              "  <tbody>\n",
              "    <tr>\n",
              "      <th>260150</th>\n",
              "      <td>260870</td>\n",
              "      <td>BELÉM DE MARIA</td>\n",
              "      <td>LAGOA DOS GATOS</td>\n",
              "    </tr>\n",
              "    <tr>\n",
              "      <th>260240</th>\n",
              "      <td>261230</td>\n",
              "      <td>BREJÃO</td>\n",
              "      <td>SALOÁ</td>\n",
              "    </tr>\n",
              "    <tr>\n",
              "      <th>260250</th>\n",
              "      <td>261360</td>\n",
              "      <td>BREJINHO</td>\n",
              "      <td>SÃO JOSÉ DO EGITO</td>\n",
              "    </tr>\n",
              "    <tr>\n",
              "      <th>260340</th>\n",
              "      <td>261570</td>\n",
              "      <td>CALUMBI</td>\n",
              "      <td>TRIUNFO</td>\n",
              "    </tr>\n",
              "    <tr>\n",
              "      <th>260370</th>\n",
              "      <td>260100</td>\n",
              "      <td>CANHOTINHO</td>\n",
              "      <td>ANGELIM</td>\n",
              "    </tr>\n",
              "    <tr>\n",
              "      <th>260392</th>\n",
              "      <td>260930</td>\n",
              "      <td>CARNAUBEIRA DA PENHA</td>\n",
              "      <td>MIRANDIBA</td>\n",
              "    </tr>\n",
              "    <tr>\n",
              "      <th>260515</th>\n",
              "      <td>260020</td>\n",
              "      <td>DORMENTES</td>\n",
              "      <td>AFRÂNIO</td>\n",
              "    </tr>\n",
              "    <tr>\n",
              "      <th>260545</th>\n",
              "      <td>260765</td>\n",
              "      <td>FERNANDO DE NORONHA</td>\n",
              "      <td>ITAMBÉ</td>\n",
              "    </tr>\n",
              "    <tr>\n",
              "      <th>260630</th>\n",
              "      <td>261430</td>\n",
              "      <td>GRANITO</td>\n",
              "      <td>MOREILÂNDIA</td>\n",
              "    </tr>\n",
              "    <tr>\n",
              "      <th>260670</th>\n",
              "      <td>260310</td>\n",
              "      <td>IBIRAJUBA</td>\n",
              "      <td>CACHOEIRINHA</td>\n",
              "    </tr>\n",
              "    <tr>\n",
              "      <th>260700</th>\n",
              "      <td>260915</td>\n",
              "      <td>INAJÁ</td>\n",
              "      <td>MANARI</td>\n",
              "    </tr>\n",
              "    <tr>\n",
              "      <th>260730</th>\n",
              "      <td>261560</td>\n",
              "      <td>IPUBI</td>\n",
              "      <td>TRINDADE</td>\n",
              "    </tr>\n",
              "    <tr>\n",
              "      <th>260740</th>\n",
              "      <td>260570</td>\n",
              "      <td>ITACURUBA</td>\n",
              "      <td>FLORESTA</td>\n",
              "    </tr>\n",
              "    <tr>\n",
              "      <th>261030</th>\n",
              "      <td>261230</td>\n",
              "      <td>PARANATAMA</td>\n",
              "      <td>SALOÁ</td>\n",
              "    </tr>\n",
              "    <tr>\n",
              "      <th>261210</th>\n",
              "      <td>261050</td>\n",
              "      <td>SALGADINHO</td>\n",
              "      <td>PASSIRA</td>\n",
              "    </tr>\n",
              "    <tr>\n",
              "      <th>261290</th>\n",
              "      <td>261150</td>\n",
              "      <td>SÃO BENEDITO DO SUL</td>\n",
              "      <td>QUIPAPÁ</td>\n",
              "    </tr>\n",
              "    <tr>\n",
              "      <th>261400</th>\n",
              "      <td>261220</td>\n",
              "      <td>SERRITA</td>\n",
              "      <td>SALGUEIRO</td>\n",
              "    </tr>\n",
              "    <tr>\n",
              "      <th>261480</th>\n",
              "      <td>260805</td>\n",
              "      <td>TACARATU</td>\n",
              "      <td>JATOBÁ</td>\n",
              "    </tr>\n",
              "    <tr>\n",
              "      <th>261510</th>\n",
              "      <td>261230</td>\n",
              "      <td>TEREZINHA</td>\n",
              "      <td>SALOÁ</td>\n",
              "    </tr>\n",
              "    <tr>\n",
              "      <th>261618</th>\n",
              "      <td>261270</td>\n",
              "      <td>VERTENTE DO LÉRIO</td>\n",
              "      <td>SANTA MARIA DO CAMBUCÁ</td>\n",
              "    </tr>\n",
              "  </tbody>\n",
              "</table>\n",
              "</div>"
            ],
            "text/plain": [
              "              munic. próx        NOME_MUNICIPIO     NOME_MUNICIPIO_PRÓX\n",
              "cd_municipio                                                           \n",
              "260150             260870        BELÉM DE MARIA         LAGOA DOS GATOS\n",
              "260240             261230                BREJÃO                   SALOÁ\n",
              "260250             261360              BREJINHO       SÃO JOSÉ DO EGITO\n",
              "260340             261570               CALUMBI                 TRIUNFO\n",
              "260370             260100            CANHOTINHO                 ANGELIM\n",
              "260392             260930  CARNAUBEIRA DA PENHA               MIRANDIBA\n",
              "260515             260020             DORMENTES                 AFRÂNIO\n",
              "260545             260765   FERNANDO DE NORONHA                  ITAMBÉ\n",
              "260630             261430               GRANITO             MOREILÂNDIA\n",
              "260670             260310             IBIRAJUBA            CACHOEIRINHA\n",
              "260700             260915                 INAJÁ                  MANARI\n",
              "260730             261560                 IPUBI                TRINDADE\n",
              "260740             260570             ITACURUBA                FLORESTA\n",
              "261030             261230            PARANATAMA                   SALOÁ\n",
              "261210             261050            SALGADINHO                 PASSIRA\n",
              "261290             261150   SÃO BENEDITO DO SUL                 QUIPAPÁ\n",
              "261400             261220               SERRITA               SALGUEIRO\n",
              "261480             260805              TACARATU                  JATOBÁ\n",
              "261510             261230             TEREZINHA                   SALOÁ\n",
              "261618             261270     VERTENTE DO LÉRIO  SANTA MARIA DO CAMBUCÁ"
            ]
          },
          "metadata": {
            "tags": []
          },
          "execution_count": 59
        }
      ]
    }
  ]
}